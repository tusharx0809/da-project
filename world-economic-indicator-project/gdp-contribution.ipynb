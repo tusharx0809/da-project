{
 "cells": [
  {
   "cell_type": "code",
   "execution_count": 3,
   "metadata": {},
   "outputs": [
    {
     "data": {
      "image/png": "[encoded data removed]",
      "text/plain": [
       "<Figure size 640x480 with 1 Axes>"
      ]
     },
     "metadata": {},
     "output_type": "display_data"
    }
   ],
   "source": [
    "#Pie chart depicting contribution of top 10 countries in gdp contribution\n",
    "#Function takes input as Year and plots a pie chart for top 10 GDP's that year\n",
    "import pandas as pd\n",
    "import matplotlib.pyplot as plt\n",
    "import math\n",
    "import random\n",
    "\n",
    "#importing the excel file\n",
    "excel_data = pd.read_excel('D:\\\\Python\\\\da-projects\\\\world-economic-indicator-project\\\\dataset\\\\WorldBank.xlsx')\n",
    "\n",
    "def get_top_ten(Year):\n",
    "  year_data = excel_data.loc[excel_data['Year'] == Year]\n",
    "  world_gdp = year_data['GDP (USD)'].sum() \n",
    "  output = {}\n",
    "  alldata = excel_data.loc[excel_data['Year'] == Year, ['Country Name', 'GDP (USD)']]\n",
    "  alldata.sort_values('GDP (USD)', inplace=True, ascending=False) #sort by descending order by GDP\n",
    "  data = alldata.head(10) #get top 10\n",
    "  for i, row in data.iterrows():\n",
    "    output[row['Country Name']] = row['GDP (USD)']\n",
    "  return world_gdp, output\n",
    "\n",
    "def plot_pie_chart(world_gdp, data):\n",
    "  labels = data.keys()\n",
    "  sizes = [100*(val/world_gdp) for val in data.values()]\n",
    "  figure, axis = plt.subplots()\n",
    "  axis.pie(sizes, labels = labels, autopct = '%1.1f%%', startangle = 140)\n",
    "  axis.axis('equal')\n",
    "  plt.title('Top 10 Countries by GDP')\n",
    "  plt.show()\n",
    "world_gdp, data = get_top_ten(2022)\n",
    "plot_pie_chart(world_gdp, data)\n",
    "\n"
   ]
  }
 ],
 "metadata": {
  "kernelspec": {
   "display_name": "Python 3",
   "language": "python",
   "name": "python3"
  },
  "language_info": {
   "codemirror_mode": {
    "name": "ipython",
    "version": 3
   },
   "file_extension": ".py",
   "mimetype": "text/x-python",
   "name": "python",
   "nbconvert_exporter": "python",
   "pygments_lexer": "ipython3",
   "version": "3.12.1"
  }
 },
 "nbformat": 4,
 "nbformat_minor": 2
}

{
 "cells": [
  {
   "cell_type": "code",
   "execution_count": null,
   "metadata": {},
   "outputs": [],
   "source": [
    "import pandas as pd\n",
    "import matplotlib.pyplot as plt\n",
    "import math\n",
    "import random\n",
    "\n",
    "#importing the excel file\n",
    "\n",
    "excel_data = pd.ExcelFile('D:\\\\Python\\\\da-project\\\\dataset\\\\WorldBank.xlsx')\n",
    "\n",
    "print(excel_data)"
   ]
  }
 ],
 "metadata": {
  "language_info": {
   "name": "python"
  }
 },
 "nbformat": 4,
 "nbformat_minor": 2
}

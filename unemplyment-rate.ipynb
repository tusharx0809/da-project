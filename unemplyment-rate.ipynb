{
 "cells": [
  {
   "cell_type": "code",
   "execution_count": 7,
   "metadata": {},
   "outputs": [
    {
     "name": "stdout",
     "output_type": "stream",
     "text": [
      "{1991.0: 3.562, 1992.0: 3.562, 1993.0: 3.826, 1994.0: 4.016, 1995.0: 3.947, 1996.0: 3.951, 1997.0: 3.974, 1998.0: 3.992, 1999.0: 4.009, 2000.0: 3.954, 2001.0: 4.029, 2002.0: 4.11, 2003.0: 4.063, 2004.0: 3.98, 2005.0: 3.87, 2006.0: 3.666, 2007.0: 3.439, 2008.0: 3.424, 2009.0: 3.757, 2010.0: 3.77, 2011.0: 3.697, 2012.0: 3.693, 2013.0: 3.703, 2014.0: 4.437, 2015.0: 5.313, 2016.0: 6.237, 2017.0: 6.013, 2018.0: 6.026}\n"
     ]
    }
   ],
   "source": [
    "import pandas as pd\n",
    "import matplotlib.pyplot as plt\n",
    "\n",
    "#importing the excel file\n",
    "excel_data = pd.read_excel('D:\\\\Python\\\\da-project\\\\dataset\\\\WorldBank.xlsx')\n",
    "\n",
    "def get_unemployment_rate(country):\n",
    "  data = excel_data.loc[excel_data['Country Name'] == country , ['Year','Unemployment (% of total labor force) (modeled ILO estimate)']]\n",
    "  data.sort_values('Year', inplace = True)\n",
    "  output = {}\n",
    "  for i, row in data.iterrows():\n",
    "    if pd.isnull(row['Unemployment (% of total labor force) (modeled ILO estimate)']):\n",
    "      continue\n",
    "    else:\n",
    "      output[row['Year']] = row['Unemployment (% of total labor force) (modeled ILO estimate)']\n",
    "  return output\n",
    "  \n",
    "\n",
    "print(get_unemployment_rate('Nigeria'))"
   ]
  }
 ],
 "metadata": {
  "kernelspec": {
   "display_name": "Python 3",
   "language": "python",
   "name": "python3"
  },
  "language_info": {
   "codemirror_mode": {
    "name": "ipython",
    "version": 3
   },
   "file_extension": ".py",
   "mimetype": "text/x-python",
   "name": "python",
   "nbconvert_exporter": "python",
   "pygments_lexer": "ipython3",
   "version": "3.12.1"
  }
 },
 "nbformat": 4,
 "nbformat_minor": 2
}

{
 "cells": [
  {
   "cell_type": "code",
   "execution_count": null,
   "metadata": {},
   "outputs": [],
   "source": [
    "import pandas as pd\n",
    "import matplotlib.pyplot as plt\n",
    "import math\n",
    "import random\n",
    "\n",
    "#importing the excel file\n",
    "excel_data = pd.read_excel('D:\\\\Python\\\\da-project\\\\dataset\\\\WorldBank.xlsx')\n",
    "\n",
    "def get_info(year, data):\n",
    "  output = {}\n",
    "  for i, row in data.iterrows():\n",
    "    if row['Year'] == year:\n",
    "      output[row['Birth rate, crude (per 1,000 people)']] = row['Death rate, crude (per 1,000 people)']\n",
    "  return output\n",
    "\n",
    "def get_birth_death_rate(country):\n",
    "  data = excel_data.loc[excel_data['Country Name'] == country, ['Year','Birth rate, crude (per 1,000 people)','Death rate, crude (per 1,000 people)']]\n",
    "  data.sort_values('Year', inplace=True)\n",
    "  output = {}\n",
    "  for i, row in data.iterrows():\n",
    "    output[row['Year']] = get_info(row['Year'],data)\n",
    "  return output\n",
    "\n",
    "def plot_comparison_graph(data):\n",
    "  years = list(data.keys())\n",
    "\n",
    "  for i, row in data.items():\n",
    "    birth_rate = list(row.keys())\n",
    "    death_rate = list(row.values())\n",
    "  \n",
    "  return birth_rate\n",
    "\n",
    "  \n",
    "data = get_birth_death_rate('India')\n",
    "print(get_info(data,2018))\n",
    "\n"
   ]
  }
 ],
 "metadata": {
  "kernelspec": {
   "display_name": "Python 3",
   "language": "python",
   "name": "python3"
  },
  "language_info": {
   "codemirror_mode": {
    "name": "ipython",
    "version": 3
   },
   "file_extension": ".py",
   "mimetype": "text/x-python",
   "name": "python",
   "nbconvert_exporter": "python",
   "pygments_lexer": "ipython3",
   "version": "3.12.1"
  }
 },
 "nbformat": 4,
 "nbformat_minor": 2
}

{
 "cells": [
  {
   "cell_type": "code",
   "execution_count": 17,
   "metadata": {},
   "outputs": [
    {
     "ename": "AttributeError",
     "evalue": "'int' object has no attribute 'iterrows'",
     "output_type": "error",
     "traceback": [
      "\u001b[1;31m---------------------------------------------------------------------------\u001b[0m",
      "\u001b[1;31mAttributeError\u001b[0m                            Traceback (most recent call last)",
      "Cell \u001b[1;32mIn[17], line 35\u001b[0m\n\u001b[0;32m     31\u001b[0m   \u001b[38;5;28;01mreturn\u001b[39;00m birth_rate\n\u001b[0;32m     34\u001b[0m data \u001b[38;5;241m=\u001b[39m get_birth_death_rate(\u001b[38;5;124m'\u001b[39m\u001b[38;5;124mIndia\u001b[39m\u001b[38;5;124m'\u001b[39m)\n\u001b[1;32m---> 35\u001b[0m \u001b[38;5;28mprint\u001b[39m(\u001b[43mget_info\u001b[49m\u001b[43m(\u001b[49m\u001b[43mdata\u001b[49m\u001b[43m,\u001b[49m\u001b[38;5;241;43m2018\u001b[39;49m\u001b[43m)\u001b[49m)\n",
      "Cell \u001b[1;32mIn[17], line 11\u001b[0m, in \u001b[0;36mget_info\u001b[1;34m(year, data)\u001b[0m\n\u001b[0;32m      9\u001b[0m \u001b[38;5;28;01mdef\u001b[39;00m \u001b[38;5;21mget_info\u001b[39m(year, data):\n\u001b[0;32m     10\u001b[0m   output \u001b[38;5;241m=\u001b[39m {}\n\u001b[1;32m---> 11\u001b[0m   \u001b[38;5;28;01mfor\u001b[39;00m i, row \u001b[38;5;129;01min\u001b[39;00m \u001b[43mdata\u001b[49m\u001b[38;5;241;43m.\u001b[39;49m\u001b[43miterrows\u001b[49m():\n\u001b[0;32m     12\u001b[0m     \u001b[38;5;28;01mif\u001b[39;00m row[\u001b[38;5;124m'\u001b[39m\u001b[38;5;124mYear\u001b[39m\u001b[38;5;124m'\u001b[39m] \u001b[38;5;241m==\u001b[39m year:\n\u001b[0;32m     13\u001b[0m       output[row[\u001b[38;5;124m'\u001b[39m\u001b[38;5;124mBirth rate, crude (per 1,000 people)\u001b[39m\u001b[38;5;124m'\u001b[39m]] \u001b[38;5;241m=\u001b[39m row[\u001b[38;5;124m'\u001b[39m\u001b[38;5;124mDeath rate, crude (per 1,000 people)\u001b[39m\u001b[38;5;124m'\u001b[39m]\n",
      "\u001b[1;31mAttributeError\u001b[0m: 'int' object has no attribute 'iterrows'"
     ]
    }
   ],
   "source": [
    "import pandas as pd\n",
    "import matplotlib.pyplot as plt\n",
    "import math\n",
    "import random\n",
    "\n",
    "#importing the excel file\n",
    "excel_data = pd.read_excel('D:\\\\Python\\\\da-project\\\\dataset\\\\WorldBank.xlsx')\n",
    "\n",
    "def get_info(year, data):\n",
    "  output = {}\n",
    "  for i, row in data.iterrows():\n",
    "    if row['Year'] == year:\n",
    "      output[row['Birth rate, crude (per 1,000 people)']] = row['Death rate, crude (per 1,000 people)']\n",
    "  return output\n",
    "\n",
    "def get_birth_death_rate(country):\n",
    "  data = excel_data.loc[excel_data['Country Name'] == country, ['Year','Birth rate, crude (per 1,000 people)','Death rate, crude (per 1,000 people)']]\n",
    "  data.sort_values('Year', inplace=True)\n",
    "  output = {}\n",
    "  for i, row in data.iterrows():\n",
    "    output[row['Year']] = get_info(row['Year'],data)\n",
    "  return output\n",
    "\n",
    "def plot_comparison_graph(data):\n",
    "  years = list(data.keys())\n",
    "\n",
    "  for i, row in data.items():\n",
    "    birth_rate = list(row.keys())\n",
    "    death_rate = list(row.values())\n",
    "  \n",
    "  return birth_rate\n",
    "\n",
    "  \n",
    "data = get_birth_death_rate('India')\n",
    "print(get_info(data,2018))\n",
    "\n"
   ]
  }
 ],
 "metadata": {
  "kernelspec": {
   "display_name": "Python 3",
   "language": "python",
   "name": "python3"
  },
  "language_info": {
   "codemirror_mode": {
    "name": "ipython",
    "version": 3
   },
   "file_extension": ".py",
   "mimetype": "text/x-python",
   "name": "python",
   "nbconvert_exporter": "python",
   "pygments_lexer": "ipython3",
   "version": "3.12.1"
  }
 },
 "nbformat": 4,
 "nbformat_minor": 2
}

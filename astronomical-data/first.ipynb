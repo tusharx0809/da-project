{
 "cells": [
  {
   "cell_type": "code",
   "execution_count": null,
   "metadata": {},
   "outputs": [],
   "source": [
    "import os\n",
    "import pandas as pd\n",
    "import numpy as np\n",
    "import seaborn as sns\n",
    "import matplotlib.pyplot as plt\n",
    "\n",
    "star_df = pd.read_csv('https://drive.google.com/uc?id=1BQVc6MHjQFtDC9iP1isT_K4ojVe_Oil-')\n",
    "\n",
    "star_df.sample(10)"
   ]
  },
  {
   "cell_type": "code",
   "execution_count": null,
   "metadata": {},
   "outputs": [],
   "source": [
    "star_df.info()"
   ]
  },
  {
   "cell_type": "markdown",
   "metadata": {},
   "source": [
    "Observations:\n",
    "Total Rows = 240\n",
    "Feature columns = 6\n",
    "Target Columns = 1\n",
    "\n",
    "Absolute Temperature(K)\n",
    "Relative Luminosity(L/Lo)\n",
    "Relative Radius(R/Ro)\n",
    "Absolute MAgnitude(Mv)\n",
    "Star Color\n",
    "Spectral Class\n",
    "Star Type(Target)\n",
    "\n",
    "Here , Lo = 3.828 x 10^26 Watts (Average Luminoisity of Sun)\n",
    "       Ro = 6.9551 x 10^8 m (Average Radius of Sun)\n",
    "       \n",
    "Categorical Features: Star Color and Spectral Class"
   ]
  },
  {
   "cell_type": "code",
   "execution_count": null,
   "metadata": {},
   "outputs": [],
   "source": [
    "folder_name = 'star_plots'\n",
    "os.makedirs(folder_name, exist_ok = True)\n",
    "base_dir = f'D:\\\\Python\\\\da-projects\\\\astronomical-data\\\\{folder_name}\\\\'"
   ]
  },
  {
   "cell_type": "markdown",
   "metadata": {},
   "source": [
    "First Visualiztion Below"
   ]
  },
  {
   "cell_type": "code",
   "execution_count": null,
   "metadata": {},
   "outputs": [],
   "source": [
    "star_df['Star type'].value_counts().plot(kind='bar')\n",
    "plt.show()"
   ]
  },
  {
   "cell_type": "markdown",
   "metadata": {},
   "source": [
    "Customize the above bar graph"
   ]
  },
  {
   "cell_type": "code",
   "execution_count": 53,
   "metadata": {},
   "outputs": [
    {
     "data": {
      "image/png": "[encoded data removed]",
      "text/plain": [
       "<Figure size 450x450 with 1 Axes>"
      ]
     },
     "metadata": {},
     "output_type": "display_data"
    }
   ],
   "source": [
    "plt.figure(figsize=(4.5,4.5))\n",
    "#plt.style.use('dark_background') to change background to dark\n",
    "ax = star_df['Star type'].value_counts().plot(kind='bar', color = ['brown','red','blue','yellow','grey','green']) #color for each bar\n",
    "ax.bar_label(ax.containers[0], color = 'red') #to display count on top of bars of each\n",
    "plt.show()"
   ]
  }
 ],
 "metadata": {
  "kernelspec": {
   "display_name": "Python 3",
   "language": "python",
   "name": "python3"
  },
  "language_info": {
   "codemirror_mode": {
    "name": "ipython",
    "version": 3
   },
   "file_extension": ".py",
   "mimetype": "text/x-python",
   "name": "python",
   "nbconvert_exporter": "python",
   "pygments_lexer": "ipython3",
   "version": "3.12.1"
  }
 },
 "nbformat": 4,
 "nbformat_minor": 2
}
